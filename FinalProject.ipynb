{
  "nbformat": 4,
  "nbformat_minor": 0,
  "metadata": {
    "colab": {
      "provenance": []
    },
    "kernelspec": {
      "name": "python3",
      "display_name": "Python 3"
    },
    "language_info": {
      "name": "python"
    }
  },
  "cells": [
    {
      "cell_type": "markdown",
      "source": [
        "For survival:\n",
        "\n",
        "0 died 1 lived\n",
        "\n",
        "For gender:\n",
        "\n",
        "0 male 1 female"
      ],
      "metadata": {
        "id": "f2pV0z059OkD"
      }
    },
    {
      "cell_type": "code",
      "execution_count": null,
      "metadata": {
        "id": "e1hhi0ypU6gg",
        "colab": {
          "base_uri": "https://localhost:8080/",
          "height": 293
        },
        "outputId": "e522c48c-b10f-460f-b64e-65be84d64661"
      },
      "outputs": [
        {
          "output_type": "stream",
          "name": "stdout",
          "text": [
            "Mounted at /content/drive\n",
            "(1309, 13)\n"
          ]
        },
        {
          "output_type": "execute_result",
          "data": {
            "text/plain": [
              "   PassengerId  Survived  Pclass  \\\n",
              "0            1         0       3   \n",
              "1            2         1       1   \n",
              "2            3         1       3   \n",
              "3            4         1       1   \n",
              "4            5         0       3   \n",
              "\n",
              "                                                Name     Sex   Age  SibSp  \\\n",
              "0                            Braund, Mr. Owen Harris    male  22.0      1   \n",
              "1  Cumings, Mrs. John Bradley (Florence Briggs Th...  female  38.0      1   \n",
              "2                             Heikkinen, Miss. Laina  female  26.0      0   \n",
              "3       Futrelle, Mrs. Jacques Heath (Lily May Peel)  female  35.0      1   \n",
              "4                           Allen, Mr. William Henry    male  35.0      0   \n",
              "\n",
              "   Parch            Ticket     Fare Cabin Embarked Dataset  \n",
              "0      0         A/5 21171   7.2500   NaN        S   train  \n",
              "1      0          PC 17599  71.2833   C85        C   train  \n",
              "2      0  STON/O2. 3101282   7.9250   NaN        S   train  \n",
              "3      0            113803  53.1000  C123        S   train  \n",
              "4      0            373450   8.0500   NaN        S   train  "
            ],
            "text/html": [
              "\n",
              "  <div id=\"df-e47ad008-7a69-418b-ae09-07b262974082\" class=\"colab-df-container\">\n",
              "    <div>\n",
              "<style scoped>\n",
              "    .dataframe tbody tr th:only-of-type {\n",
              "        vertical-align: middle;\n",
              "    }\n",
              "\n",
              "    .dataframe tbody tr th {\n",
              "        vertical-align: top;\n",
              "    }\n",
              "\n",
              "    .dataframe thead th {\n",
              "        text-align: right;\n",
              "    }\n",
              "</style>\n",
              "<table border=\"1\" class=\"dataframe\">\n",
              "  <thead>\n",
              "    <tr style=\"text-align: right;\">\n",
              "      <th></th>\n",
              "      <th>PassengerId</th>\n",
              "      <th>Survived</th>\n",
              "      <th>Pclass</th>\n",
              "      <th>Name</th>\n",
              "      <th>Sex</th>\n",
              "      <th>Age</th>\n",
              "      <th>SibSp</th>\n",
              "      <th>Parch</th>\n",
              "      <th>Ticket</th>\n",
              "      <th>Fare</th>\n",
              "      <th>Cabin</th>\n",
              "      <th>Embarked</th>\n",
              "      <th>Dataset</th>\n",
              "    </tr>\n",
              "  </thead>\n",
              "  <tbody>\n",
              "    <tr>\n",
              "      <th>0</th>\n",
              "      <td>1</td>\n",
              "      <td>0</td>\n",
              "      <td>3</td>\n",
              "      <td>Braund, Mr. Owen Harris</td>\n",
              "      <td>male</td>\n",
              "      <td>22.0</td>\n",
              "      <td>1</td>\n",
              "      <td>0</td>\n",
              "      <td>A/5 21171</td>\n",
              "      <td>7.2500</td>\n",
              "      <td>NaN</td>\n",
              "      <td>S</td>\n",
              "      <td>train</td>\n",
              "    </tr>\n",
              "    <tr>\n",
              "      <th>1</th>\n",
              "      <td>2</td>\n",
              "      <td>1</td>\n",
              "      <td>1</td>\n",
              "      <td>Cumings, Mrs. John Bradley (Florence Briggs Th...</td>\n",
              "      <td>female</td>\n",
              "      <td>38.0</td>\n",
              "      <td>1</td>\n",
              "      <td>0</td>\n",
              "      <td>PC 17599</td>\n",
              "      <td>71.2833</td>\n",
              "      <td>C85</td>\n",
              "      <td>C</td>\n",
              "      <td>train</td>\n",
              "    </tr>\n",
              "    <tr>\n",
              "      <th>2</th>\n",
              "      <td>3</td>\n",
              "      <td>1</td>\n",
              "      <td>3</td>\n",
              "      <td>Heikkinen, Miss. Laina</td>\n",
              "      <td>female</td>\n",
              "      <td>26.0</td>\n",
              "      <td>0</td>\n",
              "      <td>0</td>\n",
              "      <td>STON/O2. 3101282</td>\n",
              "      <td>7.9250</td>\n",
              "      <td>NaN</td>\n",
              "      <td>S</td>\n",
              "      <td>train</td>\n",
              "    </tr>\n",
              "    <tr>\n",
              "      <th>3</th>\n",
              "      <td>4</td>\n",
              "      <td>1</td>\n",
              "      <td>1</td>\n",
              "      <td>Futrelle, Mrs. Jacques Heath (Lily May Peel)</td>\n",
              "      <td>female</td>\n",
              "      <td>35.0</td>\n",
              "      <td>1</td>\n",
              "      <td>0</td>\n",
              "      <td>113803</td>\n",
              "      <td>53.1000</td>\n",
              "      <td>C123</td>\n",
              "      <td>S</td>\n",
              "      <td>train</td>\n",
              "    </tr>\n",
              "    <tr>\n",
              "      <th>4</th>\n",
              "      <td>5</td>\n",
              "      <td>0</td>\n",
              "      <td>3</td>\n",
              "      <td>Allen, Mr. William Henry</td>\n",
              "      <td>male</td>\n",
              "      <td>35.0</td>\n",
              "      <td>0</td>\n",
              "      <td>0</td>\n",
              "      <td>373450</td>\n",
              "      <td>8.0500</td>\n",
              "      <td>NaN</td>\n",
              "      <td>S</td>\n",
              "      <td>train</td>\n",
              "    </tr>\n",
              "  </tbody>\n",
              "</table>\n",
              "</div>\n",
              "    <div class=\"colab-df-buttons\">\n",
              "\n",
              "  <div class=\"colab-df-container\">\n",
              "    <button class=\"colab-df-convert\" onclick=\"convertToInteractive('df-e47ad008-7a69-418b-ae09-07b262974082')\"\n",
              "            title=\"Convert this dataframe to an interactive table.\"\n",
              "            style=\"display:none;\">\n",
              "\n",
              "  <svg xmlns=\"http://www.w3.org/2000/svg\" height=\"24px\" viewBox=\"0 -960 960 960\">\n",
              "    <path d=\"M120-120v-720h720v720H120Zm60-500h600v-160H180v160Zm220 220h160v-160H400v160Zm0 220h160v-160H400v160ZM180-400h160v-160H180v160Zm440 0h160v-160H620v160ZM180-180h160v-160H180v160Zm440 0h160v-160H620v160Z\"/>\n",
              "  </svg>\n",
              "    </button>\n",
              "\n",
              "  <style>\n",
              "    .colab-df-container {\n",
              "      display:flex;\n",
              "      gap: 12px;\n",
              "    }\n",
              "\n",
              "    .colab-df-convert {\n",
              "      background-color: #E8F0FE;\n",
              "      border: none;\n",
              "      border-radius: 50%;\n",
              "      cursor: pointer;\n",
              "      display: none;\n",
              "      fill: #1967D2;\n",
              "      height: 32px;\n",
              "      padding: 0 0 0 0;\n",
              "      width: 32px;\n",
              "    }\n",
              "\n",
              "    .colab-df-convert:hover {\n",
              "      background-color: #E2EBFA;\n",
              "      box-shadow: 0px 1px 2px rgba(60, 64, 67, 0.3), 0px 1px 3px 1px rgba(60, 64, 67, 0.15);\n",
              "      fill: #174EA6;\n",
              "    }\n",
              "\n",
              "    .colab-df-buttons div {\n",
              "      margin-bottom: 4px;\n",
              "    }\n",
              "\n",
              "    [theme=dark] .colab-df-convert {\n",
              "      background-color: #3B4455;\n",
              "      fill: #D2E3FC;\n",
              "    }\n",
              "\n",
              "    [theme=dark] .colab-df-convert:hover {\n",
              "      background-color: #434B5C;\n",
              "      box-shadow: 0px 1px 3px 1px rgba(0, 0, 0, 0.15);\n",
              "      filter: drop-shadow(0px 1px 2px rgba(0, 0, 0, 0.3));\n",
              "      fill: #FFFFFF;\n",
              "    }\n",
              "  </style>\n",
              "\n",
              "    <script>\n",
              "      const buttonEl =\n",
              "        document.querySelector('#df-e47ad008-7a69-418b-ae09-07b262974082 button.colab-df-convert');\n",
              "      buttonEl.style.display =\n",
              "        google.colab.kernel.accessAllowed ? 'block' : 'none';\n",
              "\n",
              "      async function convertToInteractive(key) {\n",
              "        const element = document.querySelector('#df-e47ad008-7a69-418b-ae09-07b262974082');\n",
              "        const dataTable =\n",
              "          await google.colab.kernel.invokeFunction('convertToInteractive',\n",
              "                                                    [key], {});\n",
              "        if (!dataTable) return;\n",
              "\n",
              "        const docLinkHtml = 'Like what you see? Visit the ' +\n",
              "          '<a target=\"_blank\" href=https://colab.research.google.com/notebooks/data_table.ipynb>data table notebook</a>'\n",
              "          + ' to learn more about interactive tables.';\n",
              "        element.innerHTML = '';\n",
              "        dataTable['output_type'] = 'display_data';\n",
              "        await google.colab.output.renderOutput(dataTable, element);\n",
              "        const docLink = document.createElement('div');\n",
              "        docLink.innerHTML = docLinkHtml;\n",
              "        element.appendChild(docLink);\n",
              "      }\n",
              "    </script>\n",
              "  </div>\n",
              "\n",
              "\n",
              "<div id=\"df-0b53d25a-d9e0-419b-98a1-d29b911c5209\">\n",
              "  <button class=\"colab-df-quickchart\" onclick=\"quickchart('df-0b53d25a-d9e0-419b-98a1-d29b911c5209')\"\n",
              "            title=\"Suggest charts\"\n",
              "            style=\"display:none;\">\n",
              "\n",
              "<svg xmlns=\"http://www.w3.org/2000/svg\" height=\"24px\"viewBox=\"0 0 24 24\"\n",
              "     width=\"24px\">\n",
              "    <g>\n",
              "        <path d=\"M19 3H5c-1.1 0-2 .9-2 2v14c0 1.1.9 2 2 2h14c1.1 0 2-.9 2-2V5c0-1.1-.9-2-2-2zM9 17H7v-7h2v7zm4 0h-2V7h2v10zm4 0h-2v-4h2v4z\"/>\n",
              "    </g>\n",
              "</svg>\n",
              "  </button>\n",
              "\n",
              "<style>\n",
              "  .colab-df-quickchart {\n",
              "      --bg-color: #E8F0FE;\n",
              "      --fill-color: #1967D2;\n",
              "      --hover-bg-color: #E2EBFA;\n",
              "      --hover-fill-color: #174EA6;\n",
              "      --disabled-fill-color: #AAA;\n",
              "      --disabled-bg-color: #DDD;\n",
              "  }\n",
              "\n",
              "  [theme=dark] .colab-df-quickchart {\n",
              "      --bg-color: #3B4455;\n",
              "      --fill-color: #D2E3FC;\n",
              "      --hover-bg-color: #434B5C;\n",
              "      --hover-fill-color: #FFFFFF;\n",
              "      --disabled-bg-color: #3B4455;\n",
              "      --disabled-fill-color: #666;\n",
              "  }\n",
              "\n",
              "  .colab-df-quickchart {\n",
              "    background-color: var(--bg-color);\n",
              "    border: none;\n",
              "    border-radius: 50%;\n",
              "    cursor: pointer;\n",
              "    display: none;\n",
              "    fill: var(--fill-color);\n",
              "    height: 32px;\n",
              "    padding: 0;\n",
              "    width: 32px;\n",
              "  }\n",
              "\n",
              "  .colab-df-quickchart:hover {\n",
              "    background-color: var(--hover-bg-color);\n",
              "    box-shadow: 0 1px 2px rgba(60, 64, 67, 0.3), 0 1px 3px 1px rgba(60, 64, 67, 0.15);\n",
              "    fill: var(--button-hover-fill-color);\n",
              "  }\n",
              "\n",
              "  .colab-df-quickchart-complete:disabled,\n",
              "  .colab-df-quickchart-complete:disabled:hover {\n",
              "    background-color: var(--disabled-bg-color);\n",
              "    fill: var(--disabled-fill-color);\n",
              "    box-shadow: none;\n",
              "  }\n",
              "\n",
              "  .colab-df-spinner {\n",
              "    border: 2px solid var(--fill-color);\n",
              "    border-color: transparent;\n",
              "    border-bottom-color: var(--fill-color);\n",
              "    animation:\n",
              "      spin 1s steps(1) infinite;\n",
              "  }\n",
              "\n",
              "  @keyframes spin {\n",
              "    0% {\n",
              "      border-color: transparent;\n",
              "      border-bottom-color: var(--fill-color);\n",
              "      border-left-color: var(--fill-color);\n",
              "    }\n",
              "    20% {\n",
              "      border-color: transparent;\n",
              "      border-left-color: var(--fill-color);\n",
              "      border-top-color: var(--fill-color);\n",
              "    }\n",
              "    30% {\n",
              "      border-color: transparent;\n",
              "      border-left-color: var(--fill-color);\n",
              "      border-top-color: var(--fill-color);\n",
              "      border-right-color: var(--fill-color);\n",
              "    }\n",
              "    40% {\n",
              "      border-color: transparent;\n",
              "      border-right-color: var(--fill-color);\n",
              "      border-top-color: var(--fill-color);\n",
              "    }\n",
              "    60% {\n",
              "      border-color: transparent;\n",
              "      border-right-color: var(--fill-color);\n",
              "    }\n",
              "    80% {\n",
              "      border-color: transparent;\n",
              "      border-right-color: var(--fill-color);\n",
              "      border-bottom-color: var(--fill-color);\n",
              "    }\n",
              "    90% {\n",
              "      border-color: transparent;\n",
              "      border-bottom-color: var(--fill-color);\n",
              "    }\n",
              "  }\n",
              "</style>\n",
              "\n",
              "  <script>\n",
              "    async function quickchart(key) {\n",
              "      const quickchartButtonEl =\n",
              "        document.querySelector('#' + key + ' button');\n",
              "      quickchartButtonEl.disabled = true;  // To prevent multiple clicks.\n",
              "      quickchartButtonEl.classList.add('colab-df-spinner');\n",
              "      try {\n",
              "        const charts = await google.colab.kernel.invokeFunction(\n",
              "            'suggestCharts', [key], {});\n",
              "      } catch (error) {\n",
              "        console.error('Error during call to suggestCharts:', error);\n",
              "      }\n",
              "      quickchartButtonEl.classList.remove('colab-df-spinner');\n",
              "      quickchartButtonEl.classList.add('colab-df-quickchart-complete');\n",
              "    }\n",
              "    (() => {\n",
              "      let quickchartButtonEl =\n",
              "        document.querySelector('#df-0b53d25a-d9e0-419b-98a1-d29b911c5209 button');\n",
              "      quickchartButtonEl.style.display =\n",
              "        google.colab.kernel.accessAllowed ? 'block' : 'none';\n",
              "    })();\n",
              "  </script>\n",
              "</div>\n",
              "\n",
              "    </div>\n",
              "  </div>\n"
            ],
            "application/vnd.google.colaboratory.intrinsic+json": {
              "type": "dataframe",
              "summary": "{\n  \"name\": \"#files\",\n  \"rows\": 5,\n  \"fields\": [\n    {\n      \"column\": \"PassengerId\",\n      \"properties\": {\n        \"dtype\": \"number\",\n        \"std\": 1,\n        \"min\": 1,\n        \"max\": 5,\n        \"num_unique_values\": 5,\n        \"samples\": [\n          2,\n          5,\n          3\n        ],\n        \"semantic_type\": \"\",\n        \"description\": \"\"\n      }\n    },\n    {\n      \"column\": \"Survived\",\n      \"properties\": {\n        \"dtype\": \"number\",\n        \"std\": 0,\n        \"min\": 0,\n        \"max\": 1,\n        \"num_unique_values\": 2,\n        \"samples\": [\n          1,\n          0\n        ],\n        \"semantic_type\": \"\",\n        \"description\": \"\"\n      }\n    },\n    {\n      \"column\": \"Pclass\",\n      \"properties\": {\n        \"dtype\": \"number\",\n        \"std\": 1,\n        \"min\": 1,\n        \"max\": 3,\n        \"num_unique_values\": 2,\n        \"samples\": [\n          1,\n          3\n        ],\n        \"semantic_type\": \"\",\n        \"description\": \"\"\n      }\n    },\n    {\n      \"column\": \"Name\",\n      \"properties\": {\n        \"dtype\": \"string\",\n        \"num_unique_values\": 5,\n        \"samples\": [\n          \"Cumings, Mrs. John Bradley (Florence Briggs Thayer)\",\n          \"Allen, Mr. William Henry\"\n        ],\n        \"semantic_type\": \"\",\n        \"description\": \"\"\n      }\n    },\n    {\n      \"column\": \"Sex\",\n      \"properties\": {\n        \"dtype\": \"category\",\n        \"num_unique_values\": 2,\n        \"samples\": [\n          \"female\",\n          \"male\"\n        ],\n        \"semantic_type\": \"\",\n        \"description\": \"\"\n      }\n    },\n    {\n      \"column\": \"Age\",\n      \"properties\": {\n        \"dtype\": \"number\",\n        \"std\": 6.833739825307955,\n        \"min\": 22.0,\n        \"max\": 38.0,\n        \"num_unique_values\": 4,\n        \"samples\": [\n          38.0,\n          35.0\n        ],\n        \"semantic_type\": \"\",\n        \"description\": \"\"\n      }\n    },\n    {\n      \"column\": \"SibSp\",\n      \"properties\": {\n        \"dtype\": \"number\",\n        \"std\": 0,\n        \"min\": 0,\n        \"max\": 1,\n        \"num_unique_values\": 2,\n        \"samples\": [\n          0,\n          1\n        ],\n        \"semantic_type\": \"\",\n        \"description\": \"\"\n      }\n    },\n    {\n      \"column\": \"Parch\",\n      \"properties\": {\n        \"dtype\": \"number\",\n        \"std\": 0,\n        \"min\": 0,\n        \"max\": 0,\n        \"num_unique_values\": 1,\n        \"samples\": [\n          0\n        ],\n        \"semantic_type\": \"\",\n        \"description\": \"\"\n      }\n    },\n    {\n      \"column\": \"Ticket\",\n      \"properties\": {\n        \"dtype\": \"string\",\n        \"num_unique_values\": 5,\n        \"samples\": [\n          \"PC 17599\"\n        ],\n        \"semantic_type\": \"\",\n        \"description\": \"\"\n      }\n    },\n    {\n      \"column\": \"Fare\",\n      \"properties\": {\n        \"dtype\": \"number\",\n        \"std\": 30.5100288352535,\n        \"min\": 7.25,\n        \"max\": 71.2833,\n        \"num_unique_values\": 5,\n        \"samples\": [\n          71.2833\n        ],\n        \"semantic_type\": \"\",\n        \"description\": \"\"\n      }\n    },\n    {\n      \"column\": \"Cabin\",\n      \"properties\": {\n        \"dtype\": \"category\",\n        \"num_unique_values\": 2,\n        \"samples\": [\n          \"C123\"\n        ],\n        \"semantic_type\": \"\",\n        \"description\": \"\"\n      }\n    },\n    {\n      \"column\": \"Embarked\",\n      \"properties\": {\n        \"dtype\": \"category\",\n        \"num_unique_values\": 2,\n        \"samples\": [\n          \"C\"\n        ],\n        \"semantic_type\": \"\",\n        \"description\": \"\"\n      }\n    },\n    {\n      \"column\": \"Dataset\",\n      \"properties\": {\n        \"dtype\": \"category\",\n        \"num_unique_values\": 1,\n        \"samples\": [\n          \"train\"\n        ],\n        \"semantic_type\": \"\",\n        \"description\": \"\"\n      }\n    }\n  ]\n}"
            }
          },
          "metadata": {},
          "execution_count": 1
        }
      ],
      "source": [
        "import numpy as np\n",
        "import pandas as pd\n",
        "import matplotlib.pyplot as plt\n",
        "import seaborn as sns\n",
        "from sklearn.model_selection import train_test_split\n",
        "from sklearn.linear_model import LogisticRegression\n",
        "from sklearn.metrics import classification_report, confusion_matrix\n",
        "from google.colab import drive\n",
        "from sklearn.decomposition import PCA\n",
        "from sklearn.preprocessing import StandardScaler\n",
        "from google.colab import drive\n",
        "from sklearn.preprocessing import LabelEncoder\n",
        "from sklearn.ensemble import RandomForestClassifier # Import RandomForestClassifier\n",
        "from sklearn.metrics import confusion_matrix, classification_report # Import confusion_matrix and classification_report\n",
        "\n",
        "\n",
        "drive.mount('/content/drive')\n",
        "gender_submission_df = \"/content/drive/MyDrive/Python course files/gender_submission.csv\"\n",
        "train_df = \"/content/drive/MyDrive/Python course files/train.csv\"\n",
        "test_df = \"/content/drive/MyDrive/Python course files/test.csv\"\n",
        "\n",
        "# Load the data into pandas DataFrames\n",
        "gender_submission_df = pd.read_csv(gender_submission_df)\n",
        "train_df = pd.read_csv(train_df)\n",
        "test_df = pd.read_csv(test_df)\n",
        "\n",
        "# Add survival labels to test set\n",
        "test_with_labels = test_df.merge(gender_submission_df, on='PassengerId')\n",
        "\n",
        "# Add a column to keep track of where each row came from\n",
        "train_df['Dataset'] = 'train'\n",
        "test_with_labels['Dataset'] = 'test'\n",
        "\n",
        "# Combine train and labeled test sets\n",
        "combined_df = pd.concat([train_df, test_with_labels], ignore_index=True)\n",
        "\n",
        "# Final check\n",
        "print(combined_df.shape)\n",
        "combined_df.head()\n",
        "\n",
        "\n",
        "#combined_df.to_csv('combined.csv', index=False)\n",
        "#from google.colab import files\n",
        "#files.download('combined.csv')\n"
      ]
    },
    {
      "cell_type": "code",
      "source": [
        "combined_df.info()\n"
      ],
      "metadata": {
        "colab": {
          "base_uri": "https://localhost:8080/"
        },
        "id": "Q6MVBHiiA2y_",
        "outputId": "a006f273-bae7-4a96-8749-fb46088829bf"
      },
      "execution_count": null,
      "outputs": [
        {
          "output_type": "stream",
          "name": "stdout",
          "text": [
            "<class 'pandas.core.frame.DataFrame'>\n",
            "RangeIndex: 1309 entries, 0 to 1308\n",
            "Data columns (total 13 columns):\n",
            " #   Column       Non-Null Count  Dtype  \n",
            "---  ------       --------------  -----  \n",
            " 0   PassengerId  1309 non-null   int64  \n",
            " 1   Survived     1309 non-null   int64  \n",
            " 2   Pclass       1309 non-null   int64  \n",
            " 3   Name         1309 non-null   object \n",
            " 4   Sex          1309 non-null   object \n",
            " 5   Age          1046 non-null   float64\n",
            " 6   SibSp        1309 non-null   int64  \n",
            " 7   Parch        1309 non-null   int64  \n",
            " 8   Ticket       1309 non-null   object \n",
            " 9   Fare         1308 non-null   float64\n",
            " 10  Cabin        295 non-null    object \n",
            " 11  Embarked     1307 non-null   object \n",
            " 12  Dataset      1309 non-null   object \n",
            "dtypes: float64(2), int64(5), object(6)\n",
            "memory usage: 133.1+ KB\n"
          ]
        }
      ]
    },
    {
      "cell_type": "code",
      "source": [
        "#combined_df[\"Sex\"] = combined_df[\"Sex\"].map({\"male\": 0 , \"female\": 1})\n",
        "combined_df[\"Sex\"] = combined_df[\"Sex\"].str.strip().str.lower().map({\"male\": 0, \"female\": 1})\n",
        "features = [\"Pclass\", \"Sex\", \"Age\", \"SibSp\",\"Parch\", \"Fare\"] # choose which independent variables I will focus on\n",
        "X = combined_df[features] # place features into the x\n",
        "y = combined_df[\"Survived\"] # revenue is the dependent variable I will be predicting\n",
        "\n",
        "X = X.fillna(X.mean())\n"
      ],
      "metadata": {
        "id": "K4Ppw0DIrFYw"
      },
      "execution_count": null,
      "outputs": []
    },
    {
      "cell_type": "code",
      "source": [
        "  # Standardize features (important for PCA)\n",
        "  scaler = StandardScaler()\n",
        "  X_scaled = scaler.fit_transform(X)\n",
        "\n",
        "  # Apply PCA (reduce to 3 principal components based on the wnating to explain at least 90%)\n",
        "  pca = PCA(n_components=4)\n",
        "  X_pca = pca.fit_transform(X_scaled)\n",
        "\n",
        "  # Convert to DataFrame\n",
        "  pca_df = pd.DataFrame(X_pca, columns=[\"PC1\", \"PC2\",\"PC3\", \"PC4\"])\n",
        "\n",
        "  print(\"Reduced Data Shape:\", X_pca.shape)\n",
        "\n",
        "  # Plot cumulative explained variance\n",
        "  plt.figure(figsize=(8, 5))\n",
        "  plt.plot(np.cumsum(PCA(n_components=len(X.columns)).fit(X_scaled).explained_variance_ratio_), marker='o')\n",
        "  plt.xlabel(\"Number of Principal Components\")\n",
        "  plt.ylabel(\"Cumulative Explained Variance\")\n",
        "  plt.title(\"Explained Variance by Principal Components\")\n",
        "  plt.grid()\n",
        "  plt.show()\n",
        "\n",
        "  X_train, X_test, y_train, y_test = train_test_split(X_pca, y, test_size=0.2, random_state=42)\n",
        "  log_model = LogisticRegression()\n",
        "  log_model.fit(X_train, y_train)\n",
        "\n",
        "  y_prob = log_model.predict_proba(X_test)[:, 1]  # Probability of class 1\n",
        "\n",
        "\n",
        "  threshold = 0.5  # Lowering threshold increases recall\n",
        "\n",
        "  # Convert probabilities into binary predictions using the threshold\n",
        "  y_pred_adjusted = (y_prob >= threshold).astype(int)\n",
        "\n",
        "  print(f\"Classification Report (Threshold = {threshold}):\")\n",
        "  print(classification_report(y_test, y_pred_adjusted))\n",
        "  print(\"Confusion Matrix:\")\n",
        "  print(confusion_matrix(y_test, y_pred_adjusted))\n",
        "\n",
        "\n",
        "\n",
        "\n",
        "# Compute precision-recall values for different thresholds\n",
        "from sklearn.metrics import precision_recall_curve\n",
        "import matplotlib.pyplot as plt\n",
        "\n",
        "precision, recall, thresholds = precision_recall_curve(y_test, y_prob)\n",
        "\n",
        "# Plot Precision-Recall vs. Threshold\n",
        "plt.figure(figsize=(8, 5))\n",
        "plt.plot(thresholds, precision[:-1], label=\"Precision\", color=\"blue\")\n",
        "plt.plot(thresholds, recall[:-1], label=\"Recall\", color=\"red\")\n",
        "plt.xlabel(\"Threshold\")\n",
        "plt.ylabel(\"Score\")\n",
        "plt.title(\"Precision-Recall vs. Threshold\")\n",
        "plt.legend()\n",
        "plt.grid()\n",
        "plt.show()"
      ],
      "metadata": {
        "colab": {
          "base_uri": "https://localhost:8080/",
          "height": 1000
        },
        "id": "elYmlE2wCNUW",
        "outputId": "f68d3e8e-949e-4e40-f73f-e21c5fe48627"
      },
      "execution_count": null,
      "outputs": [
        {
          "output_type": "stream",
          "name": "stdout",
          "text": [
            "Reduced Data Shape: (1309, 4)\n"
          ]
        },
        {
          "output_type": "display_data",
          "data": {
            "text/plain": [
              "<Figure size 800x500 with 1 Axes>"
            ],
            "image/png": "[encoded data removed]"
          },
          "metadata": {}
        },
        {
          "output_type": "stream",
          "name": "stdout",
          "text": [
            "Classification Report (Threshold = 0.5):\n",
            "              precision    recall  f1-score   support\n",
            "\n",
            "           0       0.87      0.89      0.88       159\n",
            "           1       0.82      0.79      0.80       103\n",
            "\n",
            "    accuracy                           0.85       262\n",
            "   macro avg       0.84      0.84      0.84       262\n",
            "weighted avg       0.85      0.85      0.85       262\n",
            "\n",
            "Confusion Matrix:\n",
            "[[141  18]\n",
            " [ 22  81]]\n"
          ]
        },
        {
          "output_type": "display_data",
          "data": {
            "text/plain": [
              "<Figure size 800x500 with 1 Axes>"
            ],
            "image/png": "[encoded data removed]"
          },
          "metadata": {}
        }
      ]
    },
    {
      "cell_type": "markdown",
      "source": [
        "## Random Forest"
      ],
      "metadata": {
        "id": "g2-QI_yfF1h-"
      }
    },
    {
      "cell_type": "code",
      "source": [
        "# Start of Random Forest\n",
        "\n",
        "features = [\"Pclass\", \"Sex\", \"Age\", \"SibSp\",\"Parch\", \"Fare\"] # Relevant features that we chose.\n",
        "combined_df = combined_df[features + ['Survived']] # only keeping the necessary features.\n",
        "#df['Age'].fillna(df['Age'].mean(), inplace=True)\n",
        "\n",
        "combined_df['Sex'] = LabelEncoder().fit_transform(combined_df['Sex']) # Converts categorical to numeric through encoding\n",
        "\n",
        "X = combined_df.drop('Survived', axis=1) #axis=1 means drop columns, axis=0 means drop rows\n",
        "y = combined_df['Survived'] # setting y as the target variable 'Survived'"
      ],
      "metadata": {
        "id": "aMAwFZ4tAMr0",
        "colab": {
          "base_uri": "https://localhost:8080/"
        },
        "outputId": "1349c976-3ded-42a9-e478-4528b83d3d1c"
      },
      "execution_count": null,
      "outputs": [
        {
          "output_type": "stream",
          "name": "stderr",
          "text": [
            "<ipython-input-3-740fa0d6abe5>:7: SettingWithCopyWarning: \n",
            "A value is trying to be set on a copy of a slice from a DataFrame.\n",
            "Try using .loc[row_indexer,col_indexer] = value instead\n",
            "\n",
            "See the caveats in the documentation: https://pandas.pydata.org/pandas-docs/stable/user_guide/indexing.html#returning-a-view-versus-a-copy\n",
            "  combined_df['Sex'] = LabelEncoder().fit_transform(combined_df['Sex']) # Converts categorical to numeric through encoding\n"
          ]
        }
      ]
    },
    {
      "cell_type": "code",
      "source": [
        "#Training for Random Forest\n",
        "\n",
        "X_train, X_test, y_train, y_test = train_test_split(X, y, test_size=0.2, random_state=42) # Splitting training/test. using 70/30 split.\n",
        "\n",
        "rf = RandomForestClassifier(random_state=42, oob_score=True) # implementing 'out of bag' score as a sort of cross validator\n",
        "rf.fit(X_train, y_train)\n",
        "rf.fit(X, y)\n",
        "print(rf.oob_score_) # prints out of bag score\n",
        "\n",
        "y_pred = rf.predict(X_test)\n",
        "print(\"Confusion Matrix:\")\n",
        "print(confusion_matrix(y_test, y_pred))\n",
        "print(\"\\nClassification Report:\")\n",
        "print(classification_report(y_test, y_pred))\n",
        "\n"
      ],
      "metadata": {
        "id": "1mO3gdNRASSp",
        "colab": {
          "base_uri": "https://localhost:8080/"
        },
        "outputId": "2c5cbf78-13cd-44ee-a0f5-b5432ec603d0"
      },
      "execution_count": null,
      "outputs": [
        {
          "output_type": "stream",
          "name": "stdout",
          "text": [
            "0.8357211079274116\n",
            "Confusion Matrix:\n",
            "[[135  24]\n",
            " [ 24  79]]\n",
            "\n",
            "Classification Report:\n",
            "              precision    recall  f1-score   support\n",
            "\n",
            "           0       0.85      0.85      0.85       159\n",
            "           1       0.77      0.77      0.77       103\n",
            "\n",
            "    accuracy                           0.82       262\n",
            "   macro avg       0.81      0.81      0.81       262\n",
            "weighted avg       0.82      0.82      0.82       262\n",
            "\n"
          ]
        }
      ]
    },
    {
      "cell_type": "code",
      "source": [
        "# Feature importance graph\n",
        "\n",
        "import matplotlib.pyplot as plt # imports matplotlib Library\n",
        "\n",
        "feature_importances = pd.Series(rf.feature_importances_, index=X.columns)\n",
        "feature_importances.sort_values().plot(kind='barh') # sorts from least to most important\n",
        "plt.title(\"Feature Importances in Random Forest\") # adds title\n",
        "plt.tight_layout()\n",
        "plt.show() # displays plot"
      ],
      "metadata": {
        "id": "BRvudlz0AcbR",
        "colab": {
          "base_uri": "https://localhost:8080/",
          "height": 487
        },
        "outputId": "81ba8391-8439-48dc-d8ce-4de13be939cf"
      },
      "execution_count": null,
      "outputs": [
        {
          "output_type": "display_data",
          "data": {
            "text/plain": [
              "<Figure size 640x480 with 1 Axes>"
            ],
            "image/png": "[encoded data removed]"
          },
          "metadata": {}
        }
      ]
    },
    {
      "cell_type": "code",
      "source": [
        "# Optimal Feature Selection\n",
        "\n",
        "from sklearn.feature_selection import RFECV # Import RFECV (Recursive Feature Elimination with Cross-Validation)\n",
        "from sklearn.ensemble import RandomForestClassifier # import Random forest model\n",
        "\n",
        "rf = RandomForestClassifier(n_estimators=50, random_state=42) # Create a Random Forest classifier with 50 trees (estimators) and set a random seed (42)\n",
        "rfecv = RFECV(estimator=rf, step=1, cv=5, scoring='recall') # Set up RFECV to select the best features:\n",
        "rfecv.fit(X_train, y_train) # Ran RFECV on the training data to find the best features\n",
        "\n",
        "print(\"Optimal number of features:\", rfecv.n_features_) # Print how many features were selected as optimal\n",
        "print(\"Selected features:\", X_train.columns[rfecv.support_])"
      ],
      "metadata": {
        "id": "SzIRe9BWGUF0",
        "outputId": "768febb6-42ce-4584-8985-807f9831d7c3",
        "colab": {
          "base_uri": "https://localhost:8080/"
        }
      },
      "execution_count": null,
      "outputs": [
        {
          "output_type": "stream",
          "name": "stdout",
          "text": [
            "Optimal number of features: 2\n",
            "Selected features: Index(['Sex', 'Fare'], dtype='object')\n"
          ]
        }
      ]
    },
    {
      "cell_type": "code",
      "source": [
        "# Hyperparameter Selection\n",
        "\n",
        "from sklearn.model_selection import GridSearchCV # Import GridSearchCV, a tool to search for the best hyperparameters for a model\n",
        "params = {'n_estimators': [10, 15, 20], 'max_depth': [3, 5, 10]} # Create a dictionary of parameters to test\n",
        "gs = GridSearchCV(RandomForestClassifier(), param_grid=params, cv=5) # Sets up GridSearchCV\n",
        "gs.fit(X_train, y_train) # Fit the model to the training data, testing all the parameter combinations to find the best one\n",
        "print(gs.best_params_)"
      ],
      "metadata": {
        "id": "8IW-gT00HN8C",
        "outputId": "ef02799f-3c55-4624-90cf-54aa83e13bac",
        "colab": {
          "base_uri": "https://localhost:8080/"
        }
      },
      "execution_count": null,
      "outputs": [
        {
          "output_type": "stream",
          "name": "stdout",
          "text": [
            "{'max_depth': 5, 'n_estimators': 15}\n"
          ]
        }
      ]
    },
    {
      "cell_type": "markdown",
      "source": [
        "Model 2 Starts Here: Leaner Model."
      ],
      "metadata": {
        "id": "bqg8XYTlBTmv"
      }
    },
    {
      "cell_type": "code",
      "source": [
        "# Start of Pruned Random Forest\n",
        "\n",
        "features = [\"Sex\", \"Age\", \"Fare\"] # Defined the list of features we kept: 'Sex', 'Age', and 'Fare'\n",
        "combined_df = combined_df[features + ['Survived']] # Kept only the selected features and the target column ('Survived') in the dataframe\n",
        "\n",
        "#df['Age'].fillna(df['Age'].mean(), inplace=True)\n",
        "\n",
        "combined_df['Sex'] = LabelEncoder().fit_transform(combined_df['Sex']) # Convert the 'Sex' column from text ('male', 'female') into numbers\n",
        "\n",
        "X = combined_df.drop('Survived', axis=1) #axis=1 means drop columns, axis=0 means drop rows\n",
        "y = combined_df['Survived']"
      ],
      "metadata": {
        "id": "VDLfsLJNBZQm",
        "colab": {
          "base_uri": "https://localhost:8080/"
        },
        "outputId": "dc6b2036-53b1-4a70-d0e5-7b8ee0ec8f14"
      },
      "execution_count": null,
      "outputs": [
        {
          "output_type": "stream",
          "name": "stderr",
          "text": [
            "<ipython-input-10-e118e48a75df>:8: SettingWithCopyWarning: \n",
            "A value is trying to be set on a copy of a slice from a DataFrame.\n",
            "Try using .loc[row_indexer,col_indexer] = value instead\n",
            "\n",
            "See the caveats in the documentation: https://pandas.pydata.org/pandas-docs/stable/user_guide/indexing.html#returning-a-view-versus-a-copy\n",
            "  combined_df['Sex'] = LabelEncoder().fit_transform(combined_df['Sex'])\n"
          ]
        }
      ]
    },
    {
      "cell_type": "code",
      "source": [
        "#Training for Random Forest\n",
        "\n",
        "X_train, X_test, y_train, y_test = train_test_split(X, y, test_size=0.2, random_state=42)\n",
        "\n",
        "rf = RandomForestClassifier(random_state=42, oob_score=True)\n",
        "rf.fit(X_train, y_train)\n",
        "rf.fit(X, y)\n",
        "print(rf.oob_score_)\n",
        "\n",
        "y_pred = rf.predict(X_test)\n",
        "print(\"Confusion Matrix:\")\n",
        "print(confusion_matrix(y_test, y_pred))\n",
        "print(\"\\nClassification Report:\")\n",
        "print(classification_report(y_test, y_pred))\n",
        "\n"
      ],
      "metadata": {
        "id": "PURBF_VsBemb",
        "colab": {
          "base_uri": "https://localhost:8080/"
        },
        "outputId": "248e59ad-7f16-425d-c50d-80b551b78c50"
      },
      "execution_count": null,
      "outputs": [
        {
          "output_type": "stream",
          "name": "stdout",
          "text": [
            "0.828113063407181\n",
            "Confusion Matrix:\n",
            "[[157   2]\n",
            " [  3 100]]\n",
            "\n",
            "Classification Report:\n",
            "              precision    recall  f1-score   support\n",
            "\n",
            "           0       0.98      0.99      0.98       159\n",
            "           1       0.98      0.97      0.98       103\n",
            "\n",
            "    accuracy                           0.98       262\n",
            "   macro avg       0.98      0.98      0.98       262\n",
            "weighted avg       0.98      0.98      0.98       262\n",
            "\n"
          ]
        }
      ]
    },
    {
      "cell_type": "markdown",
      "source": [
        "# Model 3: Implementing Hyperparameters."
      ],
      "metadata": {
        "id": "0hpErfHJJIfq"
      }
    },
    {
      "cell_type": "code",
      "source": [
        "# Start of Pruned Random Forest\n",
        "\n",
        "features = [\"Sex\", \"Age\", \"Fare\"]\n",
        "combined_df = combined_df[features + ['Survived']]\n",
        "\n",
        "#df['Age'].fillna(df['Age'].mean(), inplace=True)\n",
        "\n",
        "combined_df['Sex'] = LabelEncoder().fit_transform(combined_df['Sex'])\n",
        "\n",
        "X = combined_df.drop('Survived', axis=1) #axis=1 means drop columns, axis=0 means drop rows\n",
        "y = combined_df['Survived']"
      ],
      "metadata": {
        "id": "f06OYp8OJTUj"
      },
      "execution_count": null,
      "outputs": []
    },
    {
      "cell_type": "code",
      "source": [
        "# newly-implemented max depth and n-estimators\n",
        "\n",
        "X_train, X_test, y_train, y_test = train_test_split(X, y, test_size=0.2, random_state=42) # Split the data into training and testing sets 80/20\n",
        "\n",
        "rf = RandomForestClassifier(max_depth=5, n_estimators=15, random_state=42, oob_score=True)\n",
        "# Create a Random Forest classifier:\n",
        "#- max_depth=5 limits each tree’s depth\n",
        "# - n_estimators=15 means the forest has 15 trees\n",
        "# - random_state=42 for consistent results\n",
        "#- oob_score=True enables out-of-bag (OOB) score calculation\n",
        "\n",
        "rf.fit(X_train, y_train)\n",
        "rf.fit(X, y)\n",
        "print(rf.oob_score_)\n",
        "\n",
        "y_pred = rf.predict(X_test)\n",
        "print(\"Confusion Matrix:\")\n",
        "print(confusion_matrix(y_test, y_pred))\n",
        "print(\"\\nClassification Report:\")\n",
        "print(classification_report(y_test, y_pred))\n"
      ],
      "metadata": {
        "id": "K_cNIAKDDjjJ",
        "colab": {
          "base_uri": "https://localhost:8080/"
        },
        "outputId": "bae5d567-8051-4e06-def6-e92c95b6fc67"
      },
      "execution_count": null,
      "outputs": [
        {
          "output_type": "stream",
          "name": "stdout",
          "text": [
            "0.8487394957983193\n",
            "Confusion Matrix:\n",
            "[[143  16]\n",
            " [ 20  83]]\n",
            "\n",
            "Classification Report:\n",
            "              precision    recall  f1-score   support\n",
            "\n",
            "           0       0.88      0.90      0.89       159\n",
            "           1       0.84      0.81      0.82       103\n",
            "\n",
            "    accuracy                           0.86       262\n",
            "   macro avg       0.86      0.85      0.85       262\n",
            "weighted avg       0.86      0.86      0.86       262\n",
            "\n"
          ]
        },
        {
          "output_type": "stream",
          "name": "stderr",
          "text": [
            "/usr/local/lib/python3.11/dist-packages/sklearn/ensemble/_forest.py:612: UserWarning: Some inputs do not have OOB scores. This probably means too few trees were used to compute any reliable OOB estimates.\n",
            "  warn(\n",
            "/usr/local/lib/python3.11/dist-packages/sklearn/ensemble/_forest.py:612: UserWarning: Some inputs do not have OOB scores. This probably means too few trees were used to compute any reliable OOB estimates.\n",
            "  warn(\n"
          ]
        }
      ]
    }
  ]
}